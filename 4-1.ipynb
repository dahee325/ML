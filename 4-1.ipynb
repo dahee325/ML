{
 "cells": [
  {
   "cell_type": "markdown",
   "id": "f1d7a770-4697-4189-b3b3-e350eefe6b29",
   "metadata": {},
   "source": [
    "# 분류 알고리즘"
   ]
  },
  {
   "cell_type": "markdown",
   "id": "909ffaa7-5eb5-439d-b3e0-a7a7ebc901f0",
   "metadata": {},
   "source": [
    "## 로지스틱 회귀"
   ]
  },
  {
   "cell_type": "code",
   "execution_count": 7,
   "id": "93979afa-0433-456c-bd69-8b79a8340517",
   "metadata": {},
   "outputs": [],
   "source": [
    "import pandas as pd\n",
    "\n",
    "df = pd.read_csv('data/Fish.csv')\n",
    "# df"
   ]
  },
  {
   "cell_type": "code",
   "execution_count": 5,
   "id": "3a91c140-273f-4185-b94c-9ccde3340a59",
   "metadata": {},
   "outputs": [
    {
     "data": {
      "text/plain": [
       "array(['Bream', 'Roach', 'Whitefish', 'Parkki', 'Perch', 'Pike', 'Smelt'],\n",
       "      dtype=object)"
      ]
     },
     "execution_count": 5,
     "metadata": {},
     "output_type": "execute_result"
    }
   ],
   "source": [
    "df['Species'].unique()"
   ]
  },
  {
   "cell_type": "code",
   "execution_count": 10,
   "id": "d32b234d-4fdc-4eec-ade4-abd7d09ac751",
   "metadata": {},
   "outputs": [],
   "source": [
    "fish_input = df[['Weight', 'Length2', 'Length3', 'Height', 'Width']]\n",
    "# fish_input"
   ]
  },
  {
   "cell_type": "code",
   "execution_count": 11,
   "id": "460dfc7e-ba95-40b9-b44a-d58bb57a2330",
   "metadata": {},
   "outputs": [],
   "source": [
    "# 정답지 만들기\n",
    "fish_target = df[['Species']]"
   ]
  },
  {
   "cell_type": "code",
   "execution_count": 13,
   "id": "4498f344-f4cb-4bd2-bcf3-2021f315e611",
   "metadata": {},
   "outputs": [],
   "source": [
    "# 데이터세트 분리하기\n",
    "from sklearn.model_selection import train_test_split\n",
    "\n",
    "train_input, test_input, train_target, test_target = train_test_split(fish_input, fish_target)"
   ]
  },
  {
   "cell_type": "code",
   "execution_count": 17,
   "id": "958d738a-5d82-4bd7-aa55-acaf2642ca32",
   "metadata": {},
   "outputs": [],
   "source": [
    "# 표준화(정규화)\n",
    "from sklearn.preprocessing import StandardScaler\n",
    "\n",
    "ss = StandardScaler()\n",
    "ss.fit(train_input)\n",
    "train_scaled = ss.transform(train_input)\n",
    "test_scaled = ss.transform(test_input)"
   ]
  },
  {
   "cell_type": "code",
   "execution_count": 22,
   "id": "b1e5534a-2a3a-4cde-9073-3835f476edca",
   "metadata": {},
   "outputs": [
    {
     "name": "stdout",
     "output_type": "stream",
     "text": [
      "0.8235294117647058\n",
      "0.675\n"
     ]
    },
    {
     "name": "stderr",
     "output_type": "stream",
     "text": [
      "C:\\Users\\1-13\\Desktop\\DAMF2\\ml\\venv\\Lib\\site-packages\\sklearn\\neighbors\\_classification.py:239: DataConversionWarning: A column-vector y was passed when a 1d array was expected. Please change the shape of y to (n_samples,), for example using ravel().\n",
      "  return self._fit(X, y)\n"
     ]
    }
   ],
   "source": [
    "# 학습시키고 점수화하기\n",
    "from sklearn.neighbors import KNeighborsClassifier\n",
    "\n",
    "kn = KNeighborsClassifier()\n",
    "kn.fit(train_scaled, train_target)\n",
    "\n",
    "print(kn.score(train_scaled, train_target))\n",
    "print(kn.score(test_scaled, test_target))"
   ]
  },
  {
   "cell_type": "code",
   "execution_count": 25,
   "id": "4ce49dea-c4b3-4eda-8aae-8c1da446f2cb",
   "metadata": {},
   "outputs": [
    {
     "data": {
      "text/plain": [
       "array(['Pike', 'Parkki', 'Bream', 'Perch', 'Perch', 'Bream', 'Perch',\n",
       "       'Roach', 'Perch', 'Perch', 'Pike', 'Perch', 'Perch', 'Bream',\n",
       "       'Bream', 'Perch', 'Perch', 'Perch', 'Bream', 'Smelt', 'Smelt',\n",
       "       'Perch', 'Perch', 'Perch', 'Perch', 'Perch', 'Perch', 'Perch',\n",
       "       'Perch', 'Bream', 'Perch', 'Perch', 'Perch', 'Pike', 'Bream',\n",
       "       'Bream', 'Perch', 'Perch', 'Pike', 'Perch'], dtype=object)"
      ]
     },
     "execution_count": 25,
     "metadata": {},
     "output_type": "execute_result"
    }
   ],
   "source": [
    "kn.predict(test_scaled)"
   ]
  },
  {
   "cell_type": "code",
   "execution_count": 26,
   "id": "b913e2eb-28d6-4240-b442-e0191b00aecb",
   "metadata": {
    "collapsed": true,
    "jupyter": {
     "outputs_hidden": true
    }
   },
   "outputs": [
    {
     "data": {
      "text/plain": [
       "array([[0. , 0. , 0.4, 0.6, 0. , 0. , 0. ],\n",
       "       [0. , 1. , 0. , 0. , 0. , 0. , 0. ],\n",
       "       [1. , 0. , 0. , 0. , 0. , 0. , 0. ],\n",
       "       [0. , 0. , 1. , 0. , 0. , 0. , 0. ],\n",
       "       [0. , 0.2, 0.4, 0. , 0.4, 0. , 0. ],\n",
       "       [1. , 0. , 0. , 0. , 0. , 0. , 0. ],\n",
       "       [0. , 0. , 0.6, 0. , 0.4, 0. , 0. ],\n",
       "       [0. , 0. , 0.4, 0. , 0.6, 0. , 0. ],\n",
       "       [0. , 0. , 1. , 0. , 0. , 0. , 0. ],\n",
       "       [0. , 0. , 0.6, 0.4, 0. , 0. , 0. ],\n",
       "       [0. , 0. , 0. , 1. , 0. , 0. , 0. ],\n",
       "       [0. , 0. , 1. , 0. , 0. , 0. , 0. ],\n",
       "       [0. , 0. , 0.6, 0.4, 0. , 0. , 0. ],\n",
       "       [0.6, 0.4, 0. , 0. , 0. , 0. , 0. ],\n",
       "       [1. , 0. , 0. , 0. , 0. , 0. , 0. ],\n",
       "       [0. , 0. , 0.8, 0. , 0. , 0. , 0.2],\n",
       "       [0. , 0. , 1. , 0. , 0. , 0. , 0. ],\n",
       "       [0. , 0. , 0.6, 0. , 0.4, 0. , 0. ],\n",
       "       [1. , 0. , 0. , 0. , 0. , 0. , 0. ],\n",
       "       [0. , 0. , 0. , 0. , 0. , 1. , 0. ],\n",
       "       [0. , 0. , 0. , 0. , 0. , 1. , 0. ],\n",
       "       [0. , 0. , 0.6, 0. , 0.4, 0. , 0. ],\n",
       "       [0. , 0. , 0.8, 0. , 0.2, 0. , 0. ],\n",
       "       [0. , 0. , 1. , 0. , 0. , 0. , 0. ],\n",
       "       [0. , 0. , 0.8, 0. , 0. , 0. , 0.2],\n",
       "       [0. , 0. , 1. , 0. , 0. , 0. , 0. ],\n",
       "       [0. , 0. , 0.8, 0. , 0.2, 0. , 0. ],\n",
       "       [0. , 0. , 1. , 0. , 0. , 0. , 0. ],\n",
       "       [0. , 0.2, 0.4, 0. , 0.4, 0. , 0. ],\n",
       "       [1. , 0. , 0. , 0. , 0. , 0. , 0. ],\n",
       "       [0. , 0. , 0.6, 0. , 0. , 0. , 0.4],\n",
       "       [0. , 0. , 1. , 0. , 0. , 0. , 0. ],\n",
       "       [0. , 0. , 0.4, 0. , 0.2, 0. , 0.4],\n",
       "       [0. , 0. , 0. , 1. , 0. , 0. , 0. ],\n",
       "       [1. , 0. , 0. , 0. , 0. , 0. , 0. ],\n",
       "       [1. , 0. , 0. , 0. , 0. , 0. , 0. ],\n",
       "       [0. , 0. , 0.6, 0. , 0.4, 0. , 0. ],\n",
       "       [0. , 0. , 0.6, 0. , 0.4, 0. , 0. ],\n",
       "       [0. , 0. , 0. , 0.8, 0.2, 0. , 0. ],\n",
       "       [0. , 0. , 0.8, 0. , 0. , 0. , 0.2]])"
      ]
     },
     "execution_count": 26,
     "metadata": {},
     "output_type": "execute_result"
    }
   ],
   "source": [
    "kn.predict_proba(test_scaled) # 클래스별 예측한 확률값\n",
    "# 5개의 최근접이웃을 사용하기 때문에 확률은 0/5, 1/5, 2/5, 3/5, 4/5, 5/5 6개만 나옴"
   ]
  },
  {
   "cell_type": "markdown",
   "id": "652cc6c1-97ae-4cb0-bc2f-d000f757f81f",
   "metadata": {},
   "source": [
    "### 로지스틱 회귀\n",
    "- 이름은 회귀(z값을 도출)이지만 분류(z값을 기반으로 확률 도출)모델\n",
    "- 확률로 바꿀 때 시그모이드 함수 이용"
   ]
  },
  {
   "cell_type": "markdown",
   "id": "43726242-0452-41c2-b742-3259e02649e9",
   "metadata": {},
   "source": [
    "### 이진분류"
   ]
  },
  {
   "cell_type": "code",
   "execution_count": 43,
   "id": "e4363d9d-1024-48a3-9a6a-4d30f95e142d",
   "metadata": {},
   "outputs": [],
   "source": [
    "# train_scaled\n",
    "bream_smelt_indexes = (train_target == 'Bream') | (train_target == 'Smelt') # => True, False 반환\n",
    "\n",
    "train_bs = train_scaled[bream_smelt_indexes['Species']]\n",
    "target_bs = train_target[bream_smelt_indexes['Species']]\n",
    "# target_bs"
   ]
  },
  {
   "cell_type": "code",
   "execution_count": 50,
   "id": "8417b533-1cea-4cd9-a08e-d3811c4dc302",
   "metadata": {},
   "outputs": [
    {
     "name": "stderr",
     "output_type": "stream",
     "text": [
      "C:\\Users\\1-13\\Desktop\\DAMF2\\ml\\venv\\Lib\\site-packages\\sklearn\\utils\\validation.py:1408: DataConversionWarning: A column-vector y was passed when a 1d array was expected. Please change the shape of y to (n_samples, ), for example using ravel().\n",
      "  y = column_or_1d(y, warn=True)\n"
     ]
    },
    {
     "data": {
      "text/plain": [
       "array([[0.993, 0.007],\n",
       "       [0.969, 0.031],\n",
       "       [0.979, 0.021],\n",
       "       [0.073, 0.927],\n",
       "       [0.985, 0.015]])"
      ]
     },
     "execution_count": 50,
     "metadata": {},
     "output_type": "execute_result"
    }
   ],
   "source": [
    "from sklearn.linear_model import LogisticRegression\n",
    "lr = LogisticRegression()\n",
    "\n",
    "lr.fit(train_bs, target_bs)\n",
    "\n",
    "lr.predict(train_bs[:5])\n",
    "lr.predict_proba(train_bs[:5]).round(3) # => (Bream일 확률, Smelt일 확률)"
   ]
  },
  {
   "cell_type": "code",
   "execution_count": 54,
   "id": "180026a8-a910-4417-b8aa-a6cc77b937a0",
   "metadata": {},
   "outputs": [
    {
     "name": "stdout",
     "output_type": "stream",
     "text": [
      "[[-0.43973265 -0.63443627 -0.72094233 -1.05049558 -0.81449527]] [-2.07582737]\n"
     ]
    }
   ],
   "source": [
    "print(lr.coef_, lr.intercept_) \n",
    "# => z = -0.43 * Weight -0.63 * Length2 -0.72 * Length3 + -1.05 * Height -0.81 * Width -2.07"
   ]
  },
  {
   "cell_type": "markdown",
   "id": "119e4e22-1c63-418d-adcc-54a9be4bf7df",
   "metadata": {},
   "source": [
    "### 다중분류\n",
    "- z값을 확률로 바꿀 때 소프트맥스(softmax()) 함수 사용\\\n",
    "  => 7개(물고기의 종류)의 방정식 확률 결과의 합이 1이 되도록 만들어주는 함수"
   ]
  },
  {
   "cell_type": "code",
   "execution_count": 57,
   "id": "4680171a-6fd5-4d48-972f-8e7c8e69f2bb",
   "metadata": {},
   "outputs": [
    {
     "name": "stdout",
     "output_type": "stream",
     "text": [
      "0.8487394957983193\n",
      "0.775\n"
     ]
    },
    {
     "name": "stderr",
     "output_type": "stream",
     "text": [
      "C:\\Users\\1-13\\Desktop\\DAMF2\\ml\\venv\\Lib\\site-packages\\sklearn\\utils\\validation.py:1408: DataConversionWarning: A column-vector y was passed when a 1d array was expected. Please change the shape of y to (n_samples, ), for example using ravel().\n",
      "  y = column_or_1d(y, warn=True)\n"
     ]
    }
   ],
   "source": [
    "lr = LogisticRegression(C=5, max_iter=1000) # C : 규제를 제어하는 매개변수, max_iter : 반복횟수 지정\n",
    "lr.fit(train_scaled, train_target)\n",
    "\n",
    "print(lr.score(train_scaled, train_target))\n",
    "print(lr.score(test_scaled, test_target))"
   ]
  },
  {
   "cell_type": "code",
   "execution_count": 59,
   "id": "62c1557a-2348-4119-9e16-67e919109674",
   "metadata": {},
   "outputs": [
    {
     "data": {
      "text/plain": [
       "array([[0.003, 0.   , 0.319, 0.478, 0.159, 0.   , 0.042],\n",
       "       [0.023, 0.75 , 0.044, 0.001, 0.156, 0.006, 0.021],\n",
       "       [0.857, 0.088, 0.002, 0.003, 0.022, 0.   , 0.028],\n",
       "       [0.137, 0.   , 0.748, 0.052, 0.003, 0.   , 0.06 ],\n",
       "       [0.003, 0.651, 0.095, 0.   , 0.163, 0.079, 0.009]])"
      ]
     },
     "execution_count": 59,
     "metadata": {},
     "output_type": "execute_result"
    }
   ],
   "source": [
    "lr.predict_proba(test_scaled[:5]).round(3)"
   ]
  },
  {
   "cell_type": "code",
   "execution_count": 64,
   "id": "ad2d45bc-9084-46f8-90fc-f799c32b9361",
   "metadata": {},
   "outputs": [
    {
     "data": {
      "text/plain": [
       "(7, 5)"
      ]
     },
     "execution_count": 64,
     "metadata": {},
     "output_type": "execute_result"
    }
   ],
   "source": [
    "lr.coef_.shape # 총 7마리의 종류에서 분류해야 하기 때문에 방정식이 7개 세워짐"
   ]
  }
 ],
 "metadata": {
  "kernelspec": {
   "display_name": "Python 3 (ipykernel)",
   "language": "python",
   "name": "python3"
  },
  "language_info": {
   "codemirror_mode": {
    "name": "ipython",
    "version": 3
   },
   "file_extension": ".py",
   "mimetype": "text/x-python",
   "name": "python",
   "nbconvert_exporter": "python",
   "pygments_lexer": "ipython3",
   "version": "3.13.2"
  }
 },
 "nbformat": 4,
 "nbformat_minor": 5
}
