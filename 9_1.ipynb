{
  "nbformat": 4,
  "nbformat_minor": 0,
  "metadata": {
    "colab": {
      "provenance": []
    },
    "kernelspec": {
      "name": "python3",
      "display_name": "Python 3"
    },
    "language_info": {
      "name": "python"
    }
  },
  "cells": [
    {
      "cell_type": "markdown",
      "source": [
        "# 9-1\n",
        "## 순차 데이터\n",
        "- 텍스트나 시계열 데이터와 같이 순서에 의미가 있는 데이터 => 형태를 유지시키는게 중요\n",
        "\n",
        "### 피드포워드 신경망\n",
        "- 입력 데이터의 흐름이 앞으로만 전달되는 신경망\n"
      ],
      "metadata": {
        "id": "mE_hMR7o7HEE"
      }
    },
    {
      "cell_type": "markdown",
      "source": [
        "## 순환 신경망(RNN, recurrent neural network)\n",
        "- 완전 연결 신경망에 이전 데이터의 처리 흐름을 순환하는 고리 하나만 추가된 신경망\n",
        "- 뉴런의 출력이 다시 자기 자신으로 전달 => 어떤 샘플을 처리할 때 바로 이전에 사용했던 데이터를 재사용\n",
        "- 타임스텝(timestep) : 샘플을 처리하는 한 단계\n",
        "- 셀(cell) : 층\n",
        "- 은닉 상태(hidden state) : 셀의 출력\n",
        "- 은닉층의 활성화 함수 : 하이퍼볼릭 탄젠트 함수 tanh^2 => -1 ~ 1 사이"
      ],
      "metadata": {
        "id": "TNJRmHP_74aW"
      }
    },
    {
      "cell_type": "code",
      "execution_count": null,
      "metadata": {
        "id": "Xk1xvK3R625V"
      },
      "outputs": [],
      "source": []
    },
    {
      "cell_type": "code",
      "source": [],
      "metadata": {
        "id": "MEzxJF8F7J8B"
      },
      "execution_count": null,
      "outputs": []
    }
  ]
}