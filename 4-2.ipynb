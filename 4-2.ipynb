{
 "cells": [
  {
   "cell_type": "markdown",
   "id": "d6eee632-a689-45c0-b1f2-f05dd9bc870b",
   "metadata": {},
   "source": [
    "## 확률적 경사 하강법(SGD)\n",
    "- 점진적 학습 알고리즘\n",
    "- 랜덤하게 기울기를 따라 내려갈 것 => 가장 아래부분이 우리의 목표"
   ]
  },
  {
   "cell_type": "markdown",
   "id": "fa3521c2-b5f4-4a10-b678-2cf95f85b6b0",
   "metadata": {},
   "source": [
    "### 손실(실패율)함수\n",
    "- 어떤 문제에서 머신러닝 알고리즘이 얼마나 엉터리인지를 측정하는 기준\n",
    "- 손실함수의 값이 낮을수록 좋음 => 손실함수의 값을 떨어트려야함\n",
    "- 미분이 가능해야함(연속적) => 로지스틱 회귀 모델 사용\n",
    "- 예측이 맞으면 음수로 바꿈"
   ]
  },
  {
   "cell_type": "code",
   "execution_count": 1,
   "id": "9eab82ce-0b19-4dd5-abbc-4bc31178d7b9",
   "metadata": {},
   "outputs": [],
   "source": [
    "# 데이터 불러오기\n",
    "import pandas as pd\n",
    "\n",
    "df = pd.read_csv('data/Fish.csv')"
   ]
  },
  {
   "cell_type": "code",
   "execution_count": 2,
   "id": "bb9ac78c-735a-4234-ab73-947bf37ca0a5",
   "metadata": {},
   "outputs": [],
   "source": [
    "# 필요한 데이터 추출하기\n",
    "fish_input = df[['Weight', 'Length2', 'Length3', 'Height', 'Width']]\n",
    "fish_target = df[['Species']]"
   ]
  },
  {
   "cell_type": "code",
   "execution_count": 3,
   "id": "59a04eba-b95a-4bcb-a570-2e56d510a661",
   "metadata": {},
   "outputs": [],
   "source": [
    "# 학습 데이터와 테스트 데이터 분리하기\n",
    "from sklearn.model_selection import train_test_split\n",
    "\n",
    "train_input, test_input, train_target, test_target = train_test_split(fish_input, fish_target)"
   ]
  },
  {
   "cell_type": "code",
   "execution_count": 5,
   "id": "27e078fa-63a9-4718-a8cb-a28759dd61a3",
   "metadata": {},
   "outputs": [],
   "source": [
    "# 정규화하기\n",
    "from sklearn.preprocessing import StandardScaler\n",
    "\n",
    "ss = StandardScaler()\n",
    "ss.fit(train_input)\n",
    "train_scaled = ss.transform(train_input)\n",
    "test_scaled = ss.transform(test_input)"
   ]
  },
  {
   "cell_type": "code",
   "execution_count": 45,
   "id": "945fb774-d265-4ab8-bd4d-9c4de265aa37",
   "metadata": {},
   "outputs": [
    {
     "name": "stdout",
     "output_type": "stream",
     "text": [
      "0.8991596638655462\n",
      "0.85\n"
     ]
    },
    {
     "name": "stderr",
     "output_type": "stream",
     "text": [
      "C:\\Users\\1-13\\Desktop\\DAMF2\\ml\\venv\\Lib\\site-packages\\sklearn\\utils\\validation.py:1408: DataConversionWarning: A column-vector y was passed when a 1d array was expected. Please change the shape of y to (n_samples, ), for example using ravel().\n",
      "  y = column_or_1d(y, warn=True)\n"
     ]
    }
   ],
   "source": [
    "# 확률적 경사 하강법 사용하기\n",
    "from sklearn.linear_model import SGDClassifier\n",
    "\n",
    "sc = SGDClassifier(loss='log_loss', max_iter=100) # loss : 손실함수 종류 지정(디폴트는 'hinge'), max_iter : 반복횟수 지정\n",
    "sc.fit(train_scaled, train_target)\n",
    "\n",
    "print(sc.score(train_scaled, train_target))\n",
    "print(sc.score(test_scaled, test_target))"
   ]
  },
  {
   "cell_type": "code",
   "execution_count": 40,
   "id": "d82a65e3-72c1-41a2-86b1-8c4c9e4adee5",
   "metadata": {},
   "outputs": [
    {
     "name": "stdout",
     "output_type": "stream",
     "text": [
      "0.8487394957983193\n",
      "0.9\n"
     ]
    },
    {
     "name": "stderr",
     "output_type": "stream",
     "text": [
      "C:\\Users\\1-13\\Desktop\\DAMF2\\ml\\venv\\Lib\\site-packages\\sklearn\\utils\\validation.py:1408: DataConversionWarning: A column-vector y was passed when a 1d array was expected. Please change the shape of y to (n_samples, ), for example using ravel().\n",
      "  y = column_or_1d(y, warn=True)\n"
     ]
    }
   ],
   "source": [
    "# partial_fit() : 에포크(딥러닝에서 학습 데이터를 한 번 학습하는 횟수)을 한번 더 실행\n",
    "# => 무한히 실행한다고 좋아지는 것은 아님, 적절한 때를 찾아야함\n",
    "sc.partial_fit(train_scaled, train_target)\n",
    "\n",
    "print(sc.score(train_scaled, train_target))\n",
    "print(sc.score(test_scaled, test_target))"
   ]
  }
 ],
 "metadata": {
  "kernelspec": {
   "display_name": "Python 3 (ipykernel)",
   "language": "python",
   "name": "python3"
  },
  "language_info": {
   "codemirror_mode": {
    "name": "ipython",
    "version": 3
   },
   "file_extension": ".py",
   "mimetype": "text/x-python",
   "name": "python",
   "nbconvert_exporter": "python",
   "pygments_lexer": "ipython3",
   "version": "3.13.2"
  }
 },
 "nbformat": 4,
 "nbformat_minor": 5
}
