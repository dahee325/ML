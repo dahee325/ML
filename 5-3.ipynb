{
 "cells": [
  {
   "cell_type": "markdown",
   "id": "cf6eda00-8f5a-40a4-834f-c0f79f0da188",
   "metadata": {},
   "source": [
    "## 트리와 앙상블(ensemble)\n",
    "- 정형 데이터 : 엑셀, CSV 등 숫자 데이터 등\n",
    "- 비정형 데이터 : 텍스트 데이터, 사진, 음악 등"
   ]
  },
  {
   "cell_type": "markdown",
   "id": "cd183ebf-d33d-406f-baf1-4e011415523d",
   "metadata": {},
   "source": [
    "### 랜덤 포레스트(Random Forest)\n",
    "- 결정 트리를 랜덤하게 만들어 결정트리(기본적으로 100그루)의 숲을 만들고 각 결정트리의 예측을 사용해 최종 예측\n",
    "- 부트스트랩 샘플(bootstrap sample) : 훈련 데이터에서 랜덤하게 추출한 샘플(중복 추출 가능)"
   ]
  },
  {
   "cell_type": "code",
   "execution_count": 2,
   "id": "3cbc7c5e-f560-4369-8f41-87fd41906f6a",
   "metadata": {},
   "outputs": [],
   "source": [
    "import pandas as pd\n",
    "\n",
    "df = pd.read_csv('https://bit.ly/wine_csv_data')\n",
    "\n",
    "data = df[['alcohol', 'sugar', 'pH']]\n",
    "target = df[['class']]"
   ]
  },
  {
   "cell_type": "code",
   "execution_count": 3,
   "id": "3edfc405-81de-42c1-8013-bc31a54aaaaa",
   "metadata": {},
   "outputs": [],
   "source": [
    "from sklearn.model_selection import train_test_split\n",
    "train_input, test_input, train_target, test_target = train_test_split(data, target)"
   ]
  },
  {
   "cell_type": "code",
   "execution_count": 7,
   "id": "35fd4849-d5c9-4701-92d4-5804fbc339c1",
   "metadata": {},
   "outputs": [
    {
     "name": "stderr",
     "output_type": "stream",
     "text": [
      "C:\\Users\\1-13\\Desktop\\DAMF2\\ml\\venv\\Lib\\site-packages\\sklearn\\base.py:1389: DataConversionWarning: A column-vector y was passed when a 1d array was expected. Please change the shape of y to (n_samples,), for example using ravel().\n",
      "  return fit_method(estimator, *args, **kwargs)\n",
      "C:\\Users\\1-13\\Desktop\\DAMF2\\ml\\venv\\Lib\\site-packages\\sklearn\\base.py:1389: DataConversionWarning: A column-vector y was passed when a 1d array was expected. Please change the shape of y to (n_samples,), for example using ravel().\n",
      "  return fit_method(estimator, *args, **kwargs)\n",
      "C:\\Users\\1-13\\Desktop\\DAMF2\\ml\\venv\\Lib\\site-packages\\sklearn\\base.py:1389: DataConversionWarning: A column-vector y was passed when a 1d array was expected. Please change the shape of y to (n_samples,), for example using ravel().\n",
      "  return fit_method(estimator, *args, **kwargs)\n",
      "C:\\Users\\1-13\\Desktop\\DAMF2\\ml\\venv\\Lib\\site-packages\\sklearn\\base.py:1389: DataConversionWarning: A column-vector y was passed when a 1d array was expected. Please change the shape of y to (n_samples,), for example using ravel().\n",
      "  return fit_method(estimator, *args, **kwargs)\n",
      "C:\\Users\\1-13\\Desktop\\DAMF2\\ml\\venv\\Lib\\site-packages\\sklearn\\base.py:1389: DataConversionWarning: A column-vector y was passed when a 1d array was expected. Please change the shape of y to (n_samples,), for example using ravel().\n",
      "  return fit_method(estimator, *args, **kwargs)\n"
     ]
    },
    {
     "name": "stdout",
     "output_type": "stream",
     "text": [
      "{'fit_time': array([0.27810454, 0.29771256, 0.25453305, 0.25764036, 0.33008695]), 'score_time': array([0.05807328, 0.06624961, 0.02951455, 0.02814651, 0.06557631]), 'test_score': array([0.89128205, 0.90051282, 0.88090349, 0.90862423, 0.87577002]), 'train_score': array([0.9966641 , 0.99692071, 0.99794767, 0.99717804, 0.99769112])}\n"
     ]
    }
   ],
   "source": [
    "from sklearn.model_selection import cross_validate # 교차검증\n",
    "from sklearn.ensemble import RandomForestClassifier # 랜덤포레스트\n",
    "\n",
    "rf = RandomForestClassifier(n_jobs=-1)\n",
    "scores = cross_validate(rf, train_input, train_target, return_train_score=True, n_jobs=1)\n",
    "# return_train_score=True : 기본값 False, 검증 점수 뿐만 아니라 훈련 세트에 대한 점수도 같이 반환\n",
    "print(scores)"
   ]
  },
  {
   "cell_type": "code",
   "execution_count": 9,
   "id": "48a8e1e0-2807-4f1c-82df-55e0610dd06a",
   "metadata": {},
   "outputs": [
    {
     "name": "stderr",
     "output_type": "stream",
     "text": [
      "C:\\Users\\1-13\\Desktop\\DAMF2\\ml\\venv\\Lib\\site-packages\\sklearn\\base.py:1389: DataConversionWarning: A column-vector y was passed when a 1d array was expected. Please change the shape of y to (n_samples,), for example using ravel().\n",
      "  return fit_method(estimator, *args, **kwargs)\n"
     ]
    },
    {
     "data": {
      "text/plain": [
       "array([0.23393935, 0.49320964, 0.27285101])"
      ]
     },
     "execution_count": 9,
     "metadata": {},
     "output_type": "execute_result"
    }
   ],
   "source": [
    "rf.fit(train_input, train_target)\n",
    "rf.feature_importances_ # 특성 중요도 : 각 결정 트리의 특성 중요도를 취합한 것\n",
    "# => 과대적합을 줄이고 일반화 성능을 높임"
   ]
  },
  {
   "cell_type": "code",
   "execution_count": 10,
   "id": "fed56b26-c32f-4244-80ca-b29f7f2a5d8f",
   "metadata": {},
   "outputs": [
    {
     "name": "stderr",
     "output_type": "stream",
     "text": [
      "C:\\Users\\1-13\\Desktop\\DAMF2\\ml\\venv\\Lib\\site-packages\\sklearn\\base.py:1389: DataConversionWarning: A column-vector y was passed when a 1d array was expected. Please change the shape of y to (n_samples,), for example using ravel().\n",
      "  return fit_method(estimator, *args, **kwargs)\n"
     ]
    },
    {
     "data": {
      "text/plain": [
       "0.8916256157635468"
      ]
     },
     "execution_count": 10,
     "metadata": {},
     "output_type": "execute_result"
    }
   ],
   "source": [
    "# OOB(out of bag) : 부트스트랩 샘플이 포함되지 않고 남는 샘플\n",
    "rf = RandomForestClassifier(oob_score=True, n_jobs=1) # oob_score=True : 기본값 False, oob점수 평균 출력\n",
    "rf.fit(train_input, train_target)\n",
    "rf.oob_score_ # oob샘플을 사용하여 부트스트랩 샘플로 훈련한 결정트리 평가 => 검증 세트의 역할"
   ]
  },
  {
   "cell_type": "markdown",
   "id": "f0058fe5-fc49-4a93-99d2-9a32daa0d241",
   "metadata": {},
   "source": [
    "### 엑스트라 트리(Extra Trees)\n",
    "- 랜덤 포레스트와 비슷하게 동작\n",
    "- 부트스트랩 샘플 사용x\n",
    "- 노드를 분할할 때 가장 좋은 분할을 찾는 것이 아니라 무작위로 분할 => 과대적합을 막고 검증 세트의 점수를 높이는 효과, 계산속도 빠름"
   ]
  },
  {
   "cell_type": "code",
   "execution_count": 14,
   "id": "e9dba175-c18a-4383-96b6-b885f471b367",
   "metadata": {},
   "outputs": [
    {
     "name": "stderr",
     "output_type": "stream",
     "text": [
      "C:\\Users\\1-13\\Desktop\\DAMF2\\ml\\venv\\Lib\\site-packages\\sklearn\\base.py:1389: DataConversionWarning: A column-vector y was passed when a 1d array was expected. Please change the shape of y to (n_samples,), for example using ravel().\n",
      "  return fit_method(estimator, *args, **kwargs)\n",
      "C:\\Users\\1-13\\Desktop\\DAMF2\\ml\\venv\\Lib\\site-packages\\sklearn\\base.py:1389: DataConversionWarning: A column-vector y was passed when a 1d array was expected. Please change the shape of y to (n_samples,), for example using ravel().\n",
      "  return fit_method(estimator, *args, **kwargs)\n",
      "C:\\Users\\1-13\\Desktop\\DAMF2\\ml\\venv\\Lib\\site-packages\\sklearn\\base.py:1389: DataConversionWarning: A column-vector y was passed when a 1d array was expected. Please change the shape of y to (n_samples,), for example using ravel().\n",
      "  return fit_method(estimator, *args, **kwargs)\n",
      "C:\\Users\\1-13\\Desktop\\DAMF2\\ml\\venv\\Lib\\site-packages\\sklearn\\base.py:1389: DataConversionWarning: A column-vector y was passed when a 1d array was expected. Please change the shape of y to (n_samples,), for example using ravel().\n",
      "  return fit_method(estimator, *args, **kwargs)\n",
      "C:\\Users\\1-13\\Desktop\\DAMF2\\ml\\venv\\Lib\\site-packages\\sklearn\\base.py:1389: DataConversionWarning: A column-vector y was passed when a 1d array was expected. Please change the shape of y to (n_samples,), for example using ravel().\n",
      "  return fit_method(estimator, *args, **kwargs)\n"
     ]
    },
    {
     "name": "stdout",
     "output_type": "stream",
     "text": [
      "{'fit_time': array([0.19741988, 0.22886038, 0.15239906, 0.17894125, 0.20301867]), 'score_time': array([0.046736  , 0.03116846, 0.05438399, 0.03238487, 0.04111052]), 'test_score': array([0.88205128, 0.90153846, 0.88911704, 0.90143737, 0.87063655]), 'train_score': array([0.9966641 , 0.99692071, 0.99794767, 0.99717804, 0.99769112])}\n"
     ]
    }
   ],
   "source": [
    "from sklearn.ensemble import ExtraTreesClassifier\n",
    "et = ExtraTreesClassifier(n_jobs=-1)\n",
    "\n",
    "scores = cross_validate(et, train_input, train_target, return_train_score=True)\n",
    "print(scores)"
   ]
  },
  {
   "cell_type": "markdown",
   "id": "379ed278-e281-4ea3-ab59-04f86d884216",
   "metadata": {},
   "source": [
    "### 그레이디언트 부스팅(Gradient boosting)\n",
    "- 깊이가 얕은 결정트리 사용 => 과대적합에 강하고 높은 일반화 성능 기대\n",
    "- 결정 트리를 계속 추가하면서 가장 낮은 곳을 찾아 이동"
   ]
  },
  {
   "cell_type": "code",
   "execution_count": 16,
   "id": "ec786044-c2ce-4af0-a177-1baa71a11471",
   "metadata": {},
   "outputs": [
    {
     "name": "stderr",
     "output_type": "stream",
     "text": [
      "C:\\Users\\1-13\\Desktop\\DAMF2\\ml\\venv\\Lib\\site-packages\\sklearn\\preprocessing\\_label.py:110: DataConversionWarning: A column-vector y was passed when a 1d array was expected. Please change the shape of y to (n_samples, ), for example using ravel().\n",
      "  y = column_or_1d(y, warn=True)\n",
      "C:\\Users\\1-13\\Desktop\\DAMF2\\ml\\venv\\Lib\\site-packages\\sklearn\\preprocessing\\_label.py:110: DataConversionWarning: A column-vector y was passed when a 1d array was expected. Please change the shape of y to (n_samples, ), for example using ravel().\n",
      "  y = column_or_1d(y, warn=True)\n",
      "C:\\Users\\1-13\\Desktop\\DAMF2\\ml\\venv\\Lib\\site-packages\\sklearn\\preprocessing\\_label.py:110: DataConversionWarning: A column-vector y was passed when a 1d array was expected. Please change the shape of y to (n_samples, ), for example using ravel().\n",
      "  y = column_or_1d(y, warn=True)\n",
      "C:\\Users\\1-13\\Desktop\\DAMF2\\ml\\venv\\Lib\\site-packages\\sklearn\\preprocessing\\_label.py:110: DataConversionWarning: A column-vector y was passed when a 1d array was expected. Please change the shape of y to (n_samples, ), for example using ravel().\n",
      "  y = column_or_1d(y, warn=True)\n",
      "C:\\Users\\1-13\\Desktop\\DAMF2\\ml\\venv\\Lib\\site-packages\\sklearn\\preprocessing\\_label.py:110: DataConversionWarning: A column-vector y was passed when a 1d array was expected. Please change the shape of y to (n_samples, ), for example using ravel().\n",
      "  y = column_or_1d(y, warn=True)\n"
     ]
    },
    {
     "name": "stdout",
     "output_type": "stream",
     "text": [
      "{'fit_time': array([1.54862356, 1.49448752, 1.43767381, 1.52261519, 1.38275671]), 'score_time': array([0.00912738, 0.02007484, 0.00877643, 0.00961518, 0.01982927]), 'test_score': array([0.88102564, 0.88923077, 0.85420945, 0.88398357, 0.86652977]), 'train_score': array([0.91737234, 0.91993841, 0.923294  , 0.91739354, 0.92662904])}\n"
     ]
    }
   ],
   "source": [
    "from sklearn.ensemble import GradientBoostingClassifier\n",
    "gb = GradientBoostingClassifier(n_estimators=500) # n_estimators= : 결정 트리의 개수 지정\n",
    "scores = cross_validate(gb, train_input, train_target, return_train_score=True)\n",
    "print(scores)"
   ]
  },
  {
   "cell_type": "markdown",
   "id": "2172968e-d89a-49c5-9ec3-b82b0583438f",
   "metadata": {},
   "source": [
    "### 히스토그램 기반 그레이디언트 부스팅(Histogram-based Gradient Boosting)\n",
    "- 입력 특성을 256개 구간으로 나눔 => 최적의 분할을 매우 빠르게 찾을 수 있음\n",
    "- permutation_importance() : 히스토그램 기반 그레이디언트 부스팅의 특성 중요도 계산"
   ]
  },
  {
   "cell_type": "code",
   "execution_count": 18,
   "id": "b3aa3979-e817-4c6a-85a6-a7da3c76c95c",
   "metadata": {},
   "outputs": [
    {
     "name": "stderr",
     "output_type": "stream",
     "text": [
      "C:\\Users\\1-13\\Desktop\\DAMF2\\ml\\venv\\Lib\\site-packages\\sklearn\\utils\\validation.py:1408: DataConversionWarning: A column-vector y was passed when a 1d array was expected. Please change the shape of y to (n_samples, ), for example using ravel().\n",
      "  y = column_or_1d(y, warn=True)\n",
      "C:\\Users\\1-13\\Desktop\\DAMF2\\ml\\venv\\Lib\\site-packages\\sklearn\\utils\\validation.py:1408: DataConversionWarning: A column-vector y was passed when a 1d array was expected. Please change the shape of y to (n_samples, ), for example using ravel().\n",
      "  y = column_or_1d(y, warn=True)\n",
      "C:\\Users\\1-13\\Desktop\\DAMF2\\ml\\venv\\Lib\\site-packages\\sklearn\\utils\\validation.py:1408: DataConversionWarning: A column-vector y was passed when a 1d array was expected. Please change the shape of y to (n_samples, ), for example using ravel().\n",
      "  y = column_or_1d(y, warn=True)\n",
      "C:\\Users\\1-13\\Desktop\\DAMF2\\ml\\venv\\Lib\\site-packages\\sklearn\\utils\\validation.py:1408: DataConversionWarning: A column-vector y was passed when a 1d array was expected. Please change the shape of y to (n_samples, ), for example using ravel().\n",
      "  y = column_or_1d(y, warn=True)\n",
      "C:\\Users\\1-13\\Desktop\\DAMF2\\ml\\venv\\Lib\\site-packages\\sklearn\\utils\\validation.py:1408: DataConversionWarning: A column-vector y was passed when a 1d array was expected. Please change the shape of y to (n_samples, ), for example using ravel().\n",
      "  y = column_or_1d(y, warn=True)\n"
     ]
    },
    {
     "name": "stdout",
     "output_type": "stream",
     "text": [
      "{'fit_time': array([0.3170011 , 0.21190739, 0.32871437, 0.29888535, 0.27225757]), 'score_time': array([0.00877333, 0.00933027, 0.00863838, 0.0113585 , 0.01746416]), 'test_score': array([0.88923077, 0.88307692, 0.8613963 , 0.88809035, 0.86858316]), 'train_score': array([0.93430844, 0.93456505, 0.93663417, 0.93022063, 0.93612109])}\n"
     ]
    }
   ],
   "source": [
    "from sklearn.ensemble import HistGradientBoostingClassifier\n",
    "\n",
    "hgb = HistGradientBoostingClassifier()\n",
    "scores = cross_validate(hgb, train_input, train_target, return_train_score=True)\n",
    "print(scores)"
   ]
  },
  {
   "cell_type": "code",
   "execution_count": 20,
   "id": "57010015-8f58-4c49-839e-07f2c7490826",
   "metadata": {},
   "outputs": [
    {
     "name": "stderr",
     "output_type": "stream",
     "text": [
      "C:\\Users\\1-13\\Desktop\\DAMF2\\ml\\venv\\Lib\\site-packages\\sklearn\\utils\\validation.py:1408: DataConversionWarning: A column-vector y was passed when a 1d array was expected. Please change the shape of y to (n_samples, ), for example using ravel().\n",
      "  y = column_or_1d(y, warn=True)\n"
     ]
    },
    {
     "name": "stdout",
     "output_type": "stream",
     "text": [
      "[0.09737274 0.24482759 0.08633005]\n"
     ]
    }
   ],
   "source": [
    "from sklearn.inspection import permutation_importance\n",
    "\n",
    "hgb.fit(train_input, train_target) # 하나씩 섞었을 때 변화량을 봐야하기 때문에 학습을 시킨 후 실행해야함\n",
    "scores = permutation_importance(hgb, train_input, train_target)\n",
    "print(scores.importances_mean)"
   ]
  }
 ],
 "metadata": {
  "kernelspec": {
   "display_name": "Python 3 (ipykernel)",
   "language": "python",
   "name": "python3"
  },
  "language_info": {
   "codemirror_mode": {
    "name": "ipython",
    "version": 3
   },
   "file_extension": ".py",
   "mimetype": "text/x-python",
   "name": "python",
   "nbconvert_exporter": "python",
   "pygments_lexer": "ipython3",
   "version": "3.13.2"
  }
 },
 "nbformat": 4,
 "nbformat_minor": 5
}
